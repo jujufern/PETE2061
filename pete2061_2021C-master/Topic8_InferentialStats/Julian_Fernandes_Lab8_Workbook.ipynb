{
 "cells": [
  {
   "cell_type": "markdown",
   "metadata": {
    "colab_type": "text",
    "id": "u1YDPNtbdHDj"
   },
   "source": [
    "\n",
    "#  Inferential Statistics\n",
    "\n",
    "## PETE 2061 Lab 8 Workbook \n",
    "\n",
    "## THIS IS DUE BY 11:59 PM TODAY (Mar 13, 2020)"
   ]
  },
  {
   "cell_type": "markdown",
   "metadata": {},
   "source": [
    "1. **Using the example in \"lab8_inferential_stats.ipynb\", write a Python code to compute the confidence interval for the winning percentage of Ed Orgeron based on \"poll-larger.csv\", and show that he is the likely winner within a 95% confidence interval**\n",
    "2. Type out:\n",
    "    * (a) the 95% confidence interval\n",
    "    * (b) the point estimate\n",
    "    * (c) the margin of error."
   ]
  },
  {
   "cell_type": "code",
   "execution_count": 2,
   "metadata": {},
   "outputs": [
    {
     "data": {
      "text/plain": [
       "Orgeron    0.5181\n",
       "Saban      0.4819\n",
       "Name: vote, dtype: float64"
      ]
     },
     "execution_count": 2,
     "metadata": {},
     "output_type": "execute_result"
    }
   ],
   "source": [
    "import math as mt\n",
    "import pandas as pd\n",
    "import numpy as np\n",
    "import matplotlib.pyplot as plt\n",
    "\n",
    "poll = pd.read_csv('poll-larger.csv')\n",
    "poll['vote'].value_counts(normalize=True)"
   ]
  },
  {
   "cell_type": "code",
   "execution_count": 3,
   "metadata": {},
   "outputs": [
    {
     "data": {
      "text/plain": [
       "<matplotlib.lines.Line2D at 0x28359cc27c0>"
      ]
     },
     "execution_count": 3,
     "metadata": {},
     "output_type": "execute_result"
    },
    {
     "data": {
      "image/png": "[encoded data removed]",
      "text/plain": [
       "<Figure size 432x288 with 1 Axes>"
      ]
     },
     "metadata": {
      "needs_background": "light"
     },
     "output_type": "display_data"
    }
   ],
   "source": [
    "def sample(orgeronWinPercent,n=1000):\n",
    "    return pd.DataFrame({'vote': np.where(np.random.rand(n) < orgeronWinPercent,'Orgeron','Saban')})\n",
    "s = sample(0.5181,n=1000)\n",
    "s['vote'].value_counts(normalize=True)\n",
    "df = pd.DataFrame([sample(0.5181)['vote'].value_counts(normalize=True) for i in range(1000)])\n",
    "\n",
    "df['Orgeron'].plot(kind='hist',histtype='step',bins=30, density=True)\n",
    "plt.axvline(df['Orgeron'].quantile(0.025), c='C1',linestyle='-')\n",
    "plt.axvline(df['Orgeron'].quantile(0.975), c='C1',linestyle='-')"
   ]
  },
  {
   "cell_type": "code",
   "execution_count": 4,
   "metadata": {},
   "outputs": [
    {
     "name": "stdout",
     "output_type": "stream",
     "text": [
      "The confidence interval lies between the first two values(0.487975, 0.548025, 0.518) with the last value being the estimation point\n"
     ]
    }
   ],
   "source": [
    "def samplingdist(orgeronWinPercent,n=1000):\n",
    "    return pd.DataFrame([sample(orgeronWinPercent,n)['vote'].value_counts(normalize=True) for i in range(1000)])\n",
    "\n",
    "def quantiles(orgeronWinPercent,n=1000):\n",
    "    df = samplingdist(orgeronWinPercent,n)\n",
    "    return df['Orgeron'].quantile(0.025), df['Orgeron'].quantile(0.975), df['Orgeron'].quantile(0.5)\n",
    "\n",
    "print(f'The confidence interval lies between the first two values{quantiles(0.5181)} with the last value being the estimation point')"
   ]
  }
 ],
 "metadata": {
  "colab": {
   "collapsed_sections": [
    "sYQs3O-6dHFb",
    "8sIJ4A57dHFk",
    "_73RPOcBdHFn",
    "h9s2tfPcdHFo",
    "zt4YHVYPdHGR"
   ],
   "include_colab_link": true,
   "name": "Copy of intro-python-colab.ipynb",
   "provenance": [],
   "version": "0.3.2"
  },
  "kernelspec": {
   "display_name": "Python 3",
   "language": "python",
   "name": "python3"
  },
  "language_info": {
   "codemirror_mode": {
    "name": "ipython",
    "version": 3
   },
   "file_extension": ".py",
   "mimetype": "text/x-python",
   "name": "python",
   "nbconvert_exporter": "python",
   "pygments_lexer": "ipython3",
   "version": "3.8.8"
  }
 },
 "nbformat": 4,
 "nbformat_minor": 1
}
