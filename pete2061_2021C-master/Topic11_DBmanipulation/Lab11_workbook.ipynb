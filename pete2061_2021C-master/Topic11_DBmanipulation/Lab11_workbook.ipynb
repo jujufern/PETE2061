{
 "cells": [
  {
   "cell_type": "markdown",
   "metadata": {},
   "source": [
    "\n",
    " # Databases\n",
    "\n",
    "## PETE 2061 Lab 11 (Due on Tuesday by 8 am)\n",
    "\n",
    "<a id='top'></a>"
   ]
  },
  {
   "cell_type": "markdown",
   "metadata": {},
   "source": [
    "## Lab 11 (Create your new .ipynb or .py file )\n",
    "* Using the code given in Lab11_DBnViz.py, write a Python code that loops through all 17 well production rates given. In each iteration of the loop:\n",
    "    * Insert the Decline curve analysis model parameters into the DCAparams table in the database\n",
    "    * Insert the actual and model rates and cumulative production into the Rates table in the database\n",
    "    * Plot and save a figure of the rate and cumulative production vs time (in months).\n",
    "<br>    "
   ]
  },
  {
   "cell_type": "code",
   "execution_count": null,
   "metadata": {},
   "outputs": [],
   "source": []
  }
 ],
 "metadata": {
  "kernelspec": {
   "display_name": "Python 3",
   "language": "python",
   "name": "python3"
  },
  "language_info": {
   "codemirror_mode": {
    "name": "ipython",
    "version": 3
   },
   "file_extension": ".py",
   "mimetype": "text/x-python",
   "name": "python",
   "nbconvert_exporter": "python",
   "pygments_lexer": "ipython3",
   "version": "3.6.8"
  }
 },
 "nbformat": 4,
 "nbformat_minor": 2
}
